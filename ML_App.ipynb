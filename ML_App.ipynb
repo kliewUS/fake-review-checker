{
 "cells": [
  {
   "cell_type": "code",
   "execution_count": 1,
   "id": "3a5aa076-f6cd-4b8f-ba8d-8f45a76e767f",
   "metadata": {},
   "outputs": [],
   "source": [
    "import pandas as pd"
   ]
  },
  {
   "cell_type": "code",
   "execution_count": 2,
   "id": "44ad2e0d-547b-4277-be5b-3ee7c501aeca",
   "metadata": {},
   "outputs": [],
   "source": [
    "fr_clean = pd.read_csv(\"fake reviews dataset.csv\")"
   ]
  },
  {
   "cell_type": "code",
   "execution_count": 3,
   "id": "c6b15ed6-a015-4abb-a85a-33eb61692093",
   "metadata": {},
   "outputs": [
    {
     "data": {
      "text/html": [
       "<div>\n",
       "<style scoped>\n",
       "    .dataframe tbody tr th:only-of-type {\n",
       "        vertical-align: middle;\n",
       "    }\n",
       "\n",
       "    .dataframe tbody tr th {\n",
       "        vertical-align: top;\n",
       "    }\n",
       "\n",
       "    .dataframe thead th {\n",
       "        text-align: right;\n",
       "    }\n",
       "</style>\n",
       "<table border=\"1\" class=\"dataframe\">\n",
       "  <thead>\n",
       "    <tr style=\"text-align: right;\">\n",
       "      <th></th>\n",
       "      <th>category</th>\n",
       "      <th>rating</th>\n",
       "      <th>label</th>\n",
       "      <th>text_</th>\n",
       "    </tr>\n",
       "  </thead>\n",
       "  <tbody>\n",
       "    <tr>\n",
       "      <th>0</th>\n",
       "      <td>Home_and_Kitchen_5</td>\n",
       "      <td>5.0</td>\n",
       "      <td>CG</td>\n",
       "      <td>Love this!  Well made, sturdy, and very comfor...</td>\n",
       "    </tr>\n",
       "    <tr>\n",
       "      <th>1</th>\n",
       "      <td>Home_and_Kitchen_5</td>\n",
       "      <td>5.0</td>\n",
       "      <td>CG</td>\n",
       "      <td>love it, a great upgrade from the original.  I...</td>\n",
       "    </tr>\n",
       "    <tr>\n",
       "      <th>2</th>\n",
       "      <td>Home_and_Kitchen_5</td>\n",
       "      <td>5.0</td>\n",
       "      <td>CG</td>\n",
       "      <td>This pillow saved my back. I love the look and...</td>\n",
       "    </tr>\n",
       "    <tr>\n",
       "      <th>3</th>\n",
       "      <td>Home_and_Kitchen_5</td>\n",
       "      <td>1.0</td>\n",
       "      <td>CG</td>\n",
       "      <td>Missing information on how to use it, but it i...</td>\n",
       "    </tr>\n",
       "    <tr>\n",
       "      <th>4</th>\n",
       "      <td>Home_and_Kitchen_5</td>\n",
       "      <td>5.0</td>\n",
       "      <td>CG</td>\n",
       "      <td>Very nice set. Good quality. We have had the s...</td>\n",
       "    </tr>\n",
       "  </tbody>\n",
       "</table>\n",
       "</div>"
      ],
      "text/plain": [
       "             category  rating label  \\\n",
       "0  Home_and_Kitchen_5     5.0    CG   \n",
       "1  Home_and_Kitchen_5     5.0    CG   \n",
       "2  Home_and_Kitchen_5     5.0    CG   \n",
       "3  Home_and_Kitchen_5     1.0    CG   \n",
       "4  Home_and_Kitchen_5     5.0    CG   \n",
       "\n",
       "                                               text_  \n",
       "0  Love this!  Well made, sturdy, and very comfor...  \n",
       "1  love it, a great upgrade from the original.  I...  \n",
       "2  This pillow saved my back. I love the look and...  \n",
       "3  Missing information on how to use it, but it i...  \n",
       "4  Very nice set. Good quality. We have had the s...  "
      ]
     },
     "execution_count": 3,
     "metadata": {},
     "output_type": "execute_result"
    }
   ],
   "source": [
    "fr_clean.head()"
   ]
  },
  {
   "cell_type": "code",
   "execution_count": 4,
   "id": "62be7e00-9ae3-4763-a28c-cfb1e1641d01",
   "metadata": {},
   "outputs": [
    {
     "data": {
      "text/plain": [
       "category    0\n",
       "rating      0\n",
       "label       0\n",
       "text_       0\n",
       "dtype: int64"
      ]
     },
     "execution_count": 4,
     "metadata": {},
     "output_type": "execute_result"
    }
   ],
   "source": [
    "fr_clean.isnull().sum()"
   ]
  },
  {
   "cell_type": "code",
   "execution_count": 5,
   "id": "bcc0f086-04af-4ca8-802a-f5a3c2638a69",
   "metadata": {},
   "outputs": [
    {
     "data": {
      "text/plain": [
       "label\n",
       "CG    20216\n",
       "OR    20216\n",
       "Name: count, dtype: int64"
      ]
     },
     "execution_count": 5,
     "metadata": {},
     "output_type": "execute_result"
    }
   ],
   "source": [
    "fr_clean[\"label\"].value_counts()"
   ]
  },
  {
   "cell_type": "code",
   "execution_count": 6,
   "id": "8746d975-a5fd-4126-8b9f-40aa123fc809",
   "metadata": {},
   "outputs": [
    {
     "name": "stdout",
     "output_type": "stream",
     "text": [
      "count    40432.000000\n",
      "mean        67.465423\n",
      "std         69.581333\n",
      "min          1.000000\n",
      "25%         21.000000\n",
      "50%         39.000000\n",
      "75%         85.000000\n",
      "max        373.000000\n",
      "Name: review_length, dtype: float64\n",
      "         count       mean        std  min   25%   50%   75%    max\n",
      "label                                                             \n",
      "CG     20216.0  61.288237  61.799015  1.0  19.0  35.0  77.0  318.0\n",
      "OR     20216.0  73.642610  76.078420  5.0  23.0  42.0  93.0  373.0\n"
     ]
    }
   ],
   "source": [
    "fr_clean['review_length'] = fr_clean['text_'].apply(lambda x: len(x.split()))\n",
    "print(fr_clean['review_length'].describe())\n",
    "print(fr_clean.groupby('label')['review_length'].describe())"
   ]
  },
  {
   "cell_type": "code",
   "execution_count": 7,
   "id": "285d4a0f-cd5d-47ab-b693-fdd134a98614",
   "metadata": {},
   "outputs": [
    {
     "name": "stderr",
     "output_type": "stream",
     "text": [
      "[nltk_data] Downloading package stopwords to\n",
      "[nltk_data]     /Users/kyuliew/nltk_data...\n",
      "[nltk_data]   Package stopwords is already up-to-date!\n",
      "[nltk_data] Downloading package punkt_tab to\n",
      "[nltk_data]     /Users/kyuliew/nltk_data...\n",
      "[nltk_data]   Package punkt_tab is already up-to-date!\n"
     ]
    },
    {
     "data": {
      "text/plain": [
       "True"
      ]
     },
     "execution_count": 7,
     "metadata": {},
     "output_type": "execute_result"
    }
   ],
   "source": [
    "import re\n",
    "import nltk\n",
    "from nltk.corpus import stopwords\n",
    "from nltk.tokenize import word_tokenize\n",
    "nltk.download('stopwords')\n",
    "nltk.download('punkt_tab')"
   ]
  },
  {
   "cell_type": "code",
   "execution_count": 8,
   "id": "2f538cda-b3dd-48de-89ee-f9ed30b7f4fa",
   "metadata": {},
   "outputs": [],
   "source": [
    "def clean_text(text):\n",
    "    text = re.sub(r'<.*?>', '', text)  # Remove HTML tags\n",
    "    text = re.sub(r'[^a-zA-Z\\s]', '', text) \n",
    "    text = text.strip().lower()\n",
    "    text = re.sub(r'\\s+', ' ', text)\n",
    "    \n",
    "    return text"
   ]
  },
  {
   "cell_type": "code",
   "execution_count": 9,
   "id": "2d3f7ea6-9893-42d4-ad2f-811875e747f7",
   "metadata": {},
   "outputs": [],
   "source": [
    "fr_clean.rename(columns = {'text_': 'text'}, inplace = True)"
   ]
  },
  {
   "cell_type": "code",
   "execution_count": 10,
   "id": "392d1e46-1cbf-403b-ac5d-7008048b5ce6",
   "metadata": {},
   "outputs": [
    {
     "name": "stdout",
     "output_type": "stream",
     "text": [
      "<class 'pandas.core.frame.DataFrame'>\n",
      "RangeIndex: 40432 entries, 0 to 40431\n",
      "Data columns (total 5 columns):\n",
      " #   Column         Non-Null Count  Dtype  \n",
      "---  ------         --------------  -----  \n",
      " 0   category       40432 non-null  object \n",
      " 1   rating         40432 non-null  float64\n",
      " 2   label          40432 non-null  object \n",
      " 3   text           40432 non-null  object \n",
      " 4   review_length  40432 non-null  int64  \n",
      "dtypes: float64(1), int64(1), object(3)\n",
      "memory usage: 1.5+ MB\n"
     ]
    }
   ],
   "source": [
    "fr_clean.info()"
   ]
  },
  {
   "cell_type": "code",
   "execution_count": 11,
   "id": "70584c1a-aa1e-4082-8dde-14e56a8a7ca5",
   "metadata": {},
   "outputs": [],
   "source": [
    "def remove_stop_words(sentence):\n",
    "    stop_words = set(stopwords.words('english'))\n",
    "    non_stop_words = []\n",
    "    cleaned_sentence = \" \"\n",
    "    for word in sentence.split():\n",
    "        if word not in stop_words:\n",
    "            non_stop_words.append(word)\n",
    "    return cleaned_sentence.join(non_stop_words)"
   ]
  },
  {
   "cell_type": "code",
   "execution_count": 12,
   "id": "ff2c79f3-7f30-4fd4-a35a-8f28fbcba3c1",
   "metadata": {},
   "outputs": [],
   "source": [
    "fr_clean['cleaned_text'] = fr_clean['text'].apply(clean_text)"
   ]
  },
  {
   "cell_type": "code",
   "execution_count": 13,
   "id": "ab7ed916-4223-41be-b4ea-0554c2997f7d",
   "metadata": {},
   "outputs": [
    {
     "data": {
      "text/plain": [
       "0    love this well made sturdy and very comfortabl...\n",
       "1    love it a great upgrade from the original ive ...\n",
       "2    this pillow saved my back i love the look and ...\n",
       "3    missing information on how to use it but it is...\n",
       "4    very nice set good quality we have had the set...\n",
       "Name: cleaned_text, dtype: object"
      ]
     },
     "execution_count": 13,
     "metadata": {},
     "output_type": "execute_result"
    }
   ],
   "source": [
    "fr_clean['cleaned_text'].head()"
   ]
  },
  {
   "cell_type": "code",
   "execution_count": 14,
   "id": "46f5bead-eb58-406f-817b-3ce60766053f",
   "metadata": {},
   "outputs": [],
   "source": [
    "fr_clean['cleaned_text'] = fr_clean['cleaned_text'].apply(remove_stop_words)\n",
    "fr_clean['token'] = fr_clean['cleaned_text'].apply(word_tokenize)"
   ]
  },
  {
   "cell_type": "code",
   "execution_count": 15,
   "id": "d890ea28-aba8-4ab1-93d8-8d5f47d09bf5",
   "metadata": {},
   "outputs": [
    {
     "data": {
      "text/plain": [
       "0    [love, well, made, sturdy, comfortable, love, ...\n",
       "1    [love, great, upgrade, original, ive, mine, co...\n",
       "2      [pillow, saved, back, love, look, feel, pillow]\n",
       "3    [missing, information, use, great, product, pr...\n",
       "4         [nice, set, good, quality, set, two, months]\n",
       "Name: token, dtype: object"
      ]
     },
     "execution_count": 15,
     "metadata": {},
     "output_type": "execute_result"
    }
   ],
   "source": [
    "fr_clean['token'].head()"
   ]
  },
  {
   "cell_type": "code",
   "execution_count": 16,
   "id": "6a7b0d89-8c21-4b03-8889-a1a0d013d5f2",
   "metadata": {},
   "outputs": [],
   "source": [
    "import matplotlib.pyplot as plt\n",
    "from collections import Counter\n",
    "from textblob import TextBlob"
   ]
  },
  {
   "cell_type": "code",
   "execution_count": 17,
   "id": "5ada0691",
   "metadata": {},
   "outputs": [
    {
     "data": {
      "image/png": "[encoded data removed]",
      "text/plain": [
       "<Figure size 640x480 with 1 Axes>"
      ]
     },
     "metadata": {},
     "output_type": "display_data"
    },
    {
     "data": {
      "image/png": "[encoded data removed]",
      "text/plain": [
       "<Figure size 640x480 with 1 Axes>"
      ]
     },
     "metadata": {},
     "output_type": "display_data"
    },
    {
     "name": "stdout",
     "output_type": "stream",
     "text": [
      "Most Common Words in Real Reviews:\n",
      "[('one', 6810), ('great', 5774), ('like', 5241), ('book', 5218), ('good', 4744), ('would', 4325), ('well', 4218), ('love', 3942), ('really', 3534), ('get', 3524)]\n",
      "\n",
      "Most Common Words in Fake Reviews:\n",
      "[('great', 10645), ('book', 9783), ('good', 9451), ('love', 6863), ('story', 6761), ('one', 6585), ('well', 6061), ('would', 6037), ('read', 5609), ('little', 5318)]\n"
     ]
    }
   ],
   "source": [
    "# Distribution of Review Lengths\n",
    "plt.hist(fr_clean['review_length'], bins=30, edgecolor='black')\n",
    "plt.title('Distribution of Review Lengths')\n",
    "plt.xlabel('Number of Words')\n",
    "plt.ylabel('Frequency')\n",
    "plt.show()\n",
    "\n",
    "# Review Lengths by Class\n",
    "fr_clean.boxplot(column='review_length', by='label', grid=False)\n",
    "plt.title('Review Lengths by Class')\n",
    "plt.suptitle('')  # Remove default title\n",
    "plt.xlabel('Class (OR = Original, CG = Computer-Generated)')\n",
    "plt.ylabel('Number of Words')\n",
    "plt.show()\n",
    "\n",
    "# Word Frequency Analysis\n",
    "# Combine text by class\n",
    "or_text = ' '.join(fr_clean[fr_clean['label'] == 'OR']['cleaned_text'])\n",
    "cg_text = ' '.join(fr_clean[fr_clean['label'] == 'CG']['cleaned_text'])\n",
    "\n",
    "# Count most common words\n",
    "or_word_counts = Counter(or_text.split())\n",
    "cg_word_counts = Counter(cg_text.split())\n",
    "\n",
    "print(\"Most Common Words in Real Reviews:\")\n",
    "print(or_word_counts.most_common(10))\n",
    "\n",
    "print(\"\\nMost Common Words in Fake Reviews:\")\n",
    "print(cg_word_counts.most_common(10))"
   ]
  },
  {
   "cell_type": "code",
   "execution_count": 18,
   "id": "361c0a8f",
   "metadata": {},
   "outputs": [
    {
     "data": {
      "image/png": "[encoded data removed]",
      "text/plain": [
       "<Figure size 640x480 with 1 Axes>"
      ]
     },
     "metadata": {},
     "output_type": "display_data"
    },
    {
     "name": "stdout",
     "output_type": "stream",
     "text": [
      "Shortest Reviews:\n",
      "                                            cleaned_text label\n",
      "21686                                               well    CG\n",
      "37914                                                       CG\n",
      "36832                                 nice elegant watch    CG\n",
      "5675   div idvideoblockrsgifcacnuwea classasection as...    CG\n",
      "12409              remind colussestheworldstowardsthediv    CG\n",
      "\n",
      "Longest Reviews:\n",
      "                                            cleaned_text label\n",
      "15543  movies moods tastes occasions emphasize dialog...    OR\n",
      "4045   interest pan satisfy longing perfect easy egg ...    OR\n",
      "15575  ecw extreme evolution never seen ecw buying th...    OR\n",
      "15531  going first importantly season three scoobydoo...    OR\n",
      "11985  camera dxo labs gave following rating need sus...    OR\n"
     ]
    }
   ],
   "source": [
    "#Sentiment Analysis\n",
    "# Calculate sentiment polarity (-1 = negative, 1 = positive)\n",
    "fr_clean['sentiment'] = fr_clean['cleaned_text'].apply(lambda x: TextBlob(x).sentiment.polarity)\n",
    "\n",
    "# Boxplot of sentiment by class\n",
    "fr_clean.boxplot(column='sentiment', by='label', grid=False)\n",
    "plt.title('Sentiment Polarity by Class')\n",
    "plt.suptitle('')\n",
    "plt.xlabel('Class (OR = Original, CG = Computer-Generated)')\n",
    "plt.ylabel('Sentiment Polarity')\n",
    "plt.show()\n",
    "\n",
    "# Outlier Analysis \n",
    "# Shortest reviews\n",
    "print(\"Shortest Reviews:\")\n",
    "print(fr_clean.nsmallest(5, 'review_length')[['cleaned_text', 'label']])\n",
    "\n",
    "# Longest reviews\n",
    "print(\"\\nLongest Reviews:\")\n",
    "print(fr_clean.nlargest(5, 'review_length')[['cleaned_text', 'label']])"
   ]
  },
  {
   "cell_type": "code",
   "execution_count": 19,
   "id": "ad06be13",
   "metadata": {},
   "outputs": [
    {
     "name": "stdout",
     "output_type": "stream",
     "text": [
      "TF-IDF Feature Matrix Shape: (40432, 5000)\n"
     ]
    }
   ],
   "source": [
    "#feature extraction using TF-IDF and training the model\n",
    "#importing the libraries i need\n",
    "from sklearn.feature_extraction.text import TfidfVectorizer\n",
    "from sklearn.model_selection import train_test_split\n",
    "from sklearn.linear_model import LogisticRegression\n",
    "from sklearn.metrics import classification_report, accuracy_score\n",
    "\n",
    "#covert class labels to numeric\n",
    "fr_clean['label_numeric'] = fr_clean['label'].apply(lambda x: 1 if x == 'OR' else 0)\n",
    "\n",
    "#TF-IDF Feature Extraction\n",
    "tfidf = TfidfVectorizer(max_features = 5000)\n",
    "X = tfidf.fit_transform(fr_clean['cleaned_text']).toarray()\n",
    "y = fr_clean['label_numeric']\n",
    "print(\"TF-IDF Feature Matrix Shape:\", X.shape)"
   ]
  },
  {
   "cell_type": "code",
   "execution_count": 20,
   "id": "4f0e95f8",
   "metadata": {},
   "outputs": [
    {
     "name": "stdout",
     "output_type": "stream",
     "text": [
      "[0 0 0 ... 1 1 1]\n",
      "Accuracy: 0.8800544083096328\n",
      "\n",
      "Classification Report:\n",
      "              precision    recall  f1-score   support\n",
      "\n",
      "           0       0.88      0.87      0.88      3993\n",
      "           1       0.88      0.89      0.88      4094\n",
      "\n",
      "    accuracy                           0.88      8087\n",
      "   macro avg       0.88      0.88      0.88      8087\n",
      "weighted avg       0.88      0.88      0.88      8087\n",
      "\n",
      "Top 10 Important Words: [(5.38966931365522, 'even'), (4.786489917410576, 'without'), (4.305066782917835, 'though'), (3.9673020129108956, 'however'), (3.707729602130425, 'wont'), (3.6491348077015293, 'end'), (3.6457800051126186, 'much'), (3.550135768805415, 'actually'), (3.3820405284309607, 'instead'), (3.3061062561069545, 'although')]\n"
     ]
    }
   ],
   "source": [
    "#Model Training\n",
    "#splitting the train and test\n",
    "\n",
    "X_train,X_test,y_train,y_test = train_test_split(X, y, test_size = 0.2, random_state=238)\n",
    "model = LogisticRegression()\n",
    "model.fit(X_train, y_train)\n",
    "\n",
    "#Model Prediction on Test set\n",
    "y_pred = model.predict(X_test)\n",
    "\n",
    "print(y_pred)\n",
    "\n",
    "# Print evaluation metrics\n",
    "print(\"Accuracy:\", accuracy_score(y_test, y_pred))\n",
    "print(\"\\nClassification Report:\")\n",
    "print(classification_report(y_test, y_pred))\n",
    "\n",
    "feature_names = tfidf.get_feature_names_out()\n",
    "importance = model.coef_[0]\n",
    "important_words = sorted(zip(importance, feature_names), reverse=True)[:10]\n",
    "print(\"Top 10 Important Words:\", important_words)\n"
   ]
  },
  {
   "cell_type": "code",
   "execution_count": 21,
   "id": "20677631-d41c-442b-8b51-ed11e8b46f83",
   "metadata": {},
   "outputs": [],
   "source": [
    "import dill as pickle"
   ]
  },
  {
   "cell_type": "code",
   "execution_count": 22,
   "id": "f834f312-8b8f-4aac-8c7e-378ede9605c5",
   "metadata": {},
   "outputs": [],
   "source": [
    "with open('model.pkl','wb') as f:\n",
    "    pickle.dump(model,f)"
   ]
  },
  {
   "cell_type": "code",
   "execution_count": 23,
   "id": "5ca118cb-edaa-4d47-a607-44abf643ef5e",
   "metadata": {},
   "outputs": [],
   "source": [
    "with open('vectorizer.pkl','wb') as f:\n",
    "    pickle.dump(tfidf,f)"
   ]
  },
  {
   "cell_type": "code",
   "execution_count": null,
   "id": "9846dd18-af47-4ca5-b3f3-258368723670",
   "metadata": {},
   "outputs": [],
   "source": []
  }
 ],
 "metadata": {
  "kernelspec": {
   "display_name": "Python 3 (ipykernel)",
   "language": "python",
   "name": "python3"
  },
  "language_info": {
   "codemirror_mode": {
    "name": "ipython",
    "version": 3
   },
   "file_extension": ".py",
   "mimetype": "text/x-python",
   "name": "python",
   "nbconvert_exporter": "python",
   "pygments_lexer": "ipython3",
   "version": "3.10.16"
  }
 },
 "nbformat": 4,
 "nbformat_minor": 5
}
